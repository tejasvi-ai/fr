{
 "cells": [
  {
   "cell_type": "markdown",
   "metadata": {},
   "source": [
    "## Setting up LFW dataset"
   ]
  },
  {
   "cell_type": "code",
   "execution_count": 1,
   "metadata": {},
   "outputs": [],
   "source": [
    "!wget http://vis-www.cs.umass.edu/lfw/lfw.tgz -q"
   ]
  },
  {
   "cell_type": "code",
   "execution_count": 8,
   "metadata": {},
   "outputs": [],
   "source": [
    "!tar -xf lfw.tgz"
   ]
  },
  {
   "cell_type": "markdown",
   "metadata": {},
   "source": [
    "#### Optionally remove exceedingly frequent examples"
   ]
  },
  {
   "cell_type": "code",
   "execution_count": null,
   "metadata": {},
   "outputs": [],
   "source": [
    "# !cd lfw && du --inodes -S | sort -rh | sed -n '1,50{/^.\\{71\\}/s/^\\(.\\{30\\}\\).*\\(.\\{37\\}\\)$/\\1...\\2/;p}' > f\n",
    "# !cd lfw && sed -i 's/.*\\.\\/\\(.*\\)/\\1/' f\n",
    "# !mkdir tmp\n",
    "# !cd lfw && xargs mv -t ../tmp < f\n",
    "# !rm lfw/f"
   ]
  },
  {
   "cell_type": "markdown",
   "metadata": {},
   "source": [
    "#### Create zip archive for LFW dataset"
   ]
  },
  {
   "cell_type": "code",
   "execution_count": 1,
   "metadata": {},
   "outputs": [],
   "source": [
    "!cd lfw && zip -r -q ../lfw.zip *"
   ]
  },
  {
   "cell_type": "markdown",
   "metadata": {},
   "source": [
    "## SphereFace"
   ]
  },
  {
   "cell_type": "code",
   "execution_count": 2,
   "metadata": {},
   "outputs": [
    {
     "name": "stdout",
     "output_type": "stream",
     "text": [
      "Cloning into 'sphereface'...\n",
      "remote: Enumerating objects: 18, done.\u001b[K\n",
      "remote: Counting objects:   5% (1/18)\u001b[K\r",
      "remote: Counting objects:  11% (2/18)\u001b[K\r",
      "remote: Counting objects:  16% (3/18)\u001b[K\r",
      "remote: Counting objects:  22% (4/18)\u001b[K\r",
      "remote: Counting objects:  27% (5/18)\u001b[K\r",
      "remote: Counting objects:  33% (6/18)\u001b[K\r",
      "remote: Counting objects:  38% (7/18)\u001b[K\r",
      "remote: Counting objects:  44% (8/18)\u001b[K\r",
      "remote: Counting objects:  50% (9/18)\u001b[K\r",
      "remote: Counting objects:  55% (10/18)\u001b[K\r",
      "remote: Counting objects:  61% (11/18)\u001b[K\r",
      "remote: Counting objects:  66% (12/18)\u001b[K\r",
      "remote: Counting objects:  72% (13/18)\u001b[K\r",
      "remote: Counting objects:  77% (14/18)\u001b[K\r",
      "remote: Counting objects:  83% (15/18)\u001b[K\r",
      "remote: Counting objects:  88% (16/18)\u001b[K\r",
      "remote: Counting objects:  94% (17/18)\u001b[K\r",
      "remote: Counting objects: 100% (18/18)\u001b[K\r",
      "remote: Counting objects: 100% (18/18), done.\u001b[K\n",
      "remote: Compressing objects:   6% (1/16)\u001b[K\r",
      "remote: Compressing objects:  12% (2/16)\u001b[K\r",
      "remote: Compressing objects:  18% (3/16)\u001b[K\r",
      "remote: Compressing objects:  25% (4/16)\u001b[K\r",
      "remote: Compressing objects:  31% (5/16)\u001b[K\r",
      "remote: Compressing objects:  37% (6/16)\u001b[K\r",
      "remote: Compressing objects:  43% (7/16)\u001b[K\r",
      "remote: Compressing objects:  50% (8/16)\u001b[K\r",
      "remote: Compressing objects:  56% (9/16)\u001b[K\r",
      "remote: Compressing objects:  62% (10/16)\u001b[K\r",
      "remote: Compressing objects:  68% (11/16)\u001b[K\r",
      "remote: Compressing objects:  75% (12/16)\u001b[K\r",
      "remote: Compressing objects:  81% (13/16)\u001b[K\r",
      "remote: Compressing objects:  87% (14/16)\u001b[K\r",
      "remote: Compressing objects:  93% (15/16)\u001b[K\r",
      "remote: Compressing objects: 100% (16/16)\u001b[K\r",
      "remote: Compressing objects: 100% (16/16), done.\u001b[K\n",
      "Unpacking objects:   5% (1/18)   \r",
      "Unpacking objects:  11% (2/18)   \r",
      "Unpacking objects:  16% (3/18)   \r",
      "Unpacking objects:  22% (4/18)   \r",
      "Unpacking objects:  27% (5/18)   \r",
      "Unpacking objects:  33% (6/18)   \r",
      "Unpacking objects:  38% (7/18)   \r",
      "Unpacking objects:  44% (8/18)   \r",
      "Unpacking objects:  50% (9/18)   \r",
      "Unpacking objects:  55% (10/18)   \r",
      "Unpacking objects:  61% (11/18)   \r",
      "Unpacking objects:  66% (12/18)   \r",
      "Unpacking objects:  72% (13/18)   \r",
      "Unpacking objects:  77% (14/18)   \r",
      "Unpacking objects:  83% (15/18)   \r",
      "remote: Total 18 (delta 0), reused 15 (delta 0), pack-reused 0\u001b[K\n",
      "Unpacking objects:  88% (16/18)   \r",
      "Unpacking objects:  94% (17/18)   \r",
      "Unpacking objects: 100% (18/18)   \r",
      "Unpacking objects: 100% (18/18), done.\n"
     ]
    }
   ],
   "source": [
    "!git clone --depth=1 https://github.com/clcarwin/sphereface_pytorch sphereface"
   ]
  },
  {
   "cell_type": "code",
   "execution_count": null,
   "metadata": {},
   "outputs": [],
   "source": [
    "!sudo apt install atool -y -qq\n",
    "!cd sphereface/model && atool -x -q *.7z"
   ]
  },
  {
   "cell_type": "code",
   "execution_count": null,
   "metadata": {},
   "outputs": [],
   "source": [
    "!python3 lfw_eval.py --model sphereface/model/sphere20a_20171020.pth --lfw 'lfw.zip'"
   ]
  },
  {
   "cell_type": "markdown",
   "metadata": {},
   "source": [
    "## Deepface package"
   ]
  },
  {
   "cell_type": "code",
   "execution_count": null,
   "metadata": {},
   "outputs": [],
   "source": [
    "!pip3 install deepface -qq"
   ]
  },
  {
   "cell_type": "markdown",
   "metadata": {},
   "source": [
    "#### [`deepface`](https://github.com/serengil/deepface/) package provides VGG-Face , Google FaceNet, OpenFace, Facebook DeepFace and DeepID<br>\n",
    "The helper script using `deepface` package is [DeepFace.py](DeepFace.py)."
   ]
  },
  {
   "cell_type": "code",
   "execution_count": null,
   "metadata": {},
   "outputs": [],
   "source": [
    "!python3 lfw_eval.py --net $MODEL_NAME --lfw 'lfw.zip'"
   ]
  },
  {
   "cell_type": "markdown",
   "metadata": {},
   "source": [
    "Replace $MODEL_NAME with one of `deepface`, `openface`, and `facenet`."
   ]
  }
 ],
 "metadata": {
  "kernelspec": {
   "display_name": "Python 3",
   "language": "python",
   "name": "python3"
  },
  "language_info": {
   "codemirror_mode": {
    "name": "ipython",
    "version": 3
   },
   "file_extension": ".py",
   "mimetype": "text/x-python",
   "name": "python",
   "nbconvert_exporter": "python",
   "pygments_lexer": "ipython3",
   "version": "3.6.9"
  }
 },
 "nbformat": 4,
 "nbformat_minor": 2
}
